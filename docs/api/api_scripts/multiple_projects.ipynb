{
 "cells": [
  {
   "cell_type": "markdown",
   "metadata": {},
   "source": [
    "## Multiple Projects"
   ]
  },
  {
   "cell_type": "markdown",
   "metadata": {},
   "source": [
    "This notebook describes how to use multiple projects in ml-git api."
   ]
  },
  {
   "cell_type": "markdown",
   "metadata": {},
   "source": [
    "To start using the ml-git api we need to import it into our script"
   ]
  },
  {
   "cell_type": "code",
   "execution_count": 3,
   "metadata": {},
   "outputs": [
    {
     "name": "stdout",
     "output_type": "stream",
     "text": []
    }
   ],
   "source": [
    "from ml_git.api import MLGitAPI\n"
   ]
  },
  {
   "cell_type": "markdown",
   "metadata": {},
   "source": [
    "Now for organizing questions we will create a folder for each instance of the mlgit project."
   ]
  },
  {
   "cell_type": "code",
   "execution_count": 4,
   "metadata": {},
   "outputs": [
    {
     "name": "stdout",
     "output_type": "stream",
     "text": []
    }
   ],
   "source": [
    "# importing os module\n",
    "import os\n",
    "\n",
    "os.mkdir('project_1')\n",
    "os.mkdir('project_2')"
   ]
  },
  {
   "cell_type": "markdown",
   "metadata": {},
   "source": [
    "Then we must creates two new project instances, you can inform the root path of the instance as a parameter, by default the path of the instance will be the current path."
   ]
  },
  {
   "cell_type": "code",
   "execution_count": 5,
   "metadata": {},
   "outputs": [
    {
     "name": "stdout",
     "output_type": "stream",
     "text": []
    }
   ],
   "source": [
    "\n",
    "project_1 = MLGitAPI(root_path='./project_1')\n",
    "project_2 = MLGitAPI(root_path='./project_2')"
   ]
  },
  {
   "cell_type": "markdown",
   "metadata": {},
   "source": [
    "We will consider the scenario of a user who wants to configure their projects from scratch. The first step is to define that the directory we are working on will be an ml-git project, for this we execute the following command:"
   ]
  },
  {
   "cell_type": "code",
   "execution_count": 6,
   "metadata": {},
   "outputs": [
    {
     "name": "stderr",
     "output_type": "stream",
     "text": [
      "INFO - Admin: Initialized empty ml-git repository in C:\\Git\\HP\\ml-git\\docs\\api\\api_scripts\\project_1\\.ml-git\n",
      "INFO - Admin: Initialized empty ml-git repository in C:\\Git\\HP\\ml-git\\docs\\api\\api_scripts\\project_2\\.ml-git\n"
     ]
    },
    {
     "name": "stdout",
     "output_type": "stream",
     "text": []
    }
   ],
   "source": [
    "project_1.init('repository')\n",
    "project_2.init('repository')"
   ]
  },
  {
   "cell_type": "markdown",
   "metadata": {},
   "source": [
    "In this notebook we will configure our ml-git project with a local git repository and a local minio as storage. For this, the following commands are necessary:"
   ]
  },
  {
   "cell_type": "code",
   "execution_count": 7,
   "metadata": {
    "scrolled": true
   },
   "outputs": [
    {
     "name": "stderr",
     "output_type": "stream",
     "text": [
      "INFO - Admin: Add remote repository [/local_server.git/] for [datasets]\n",
      "INFO - Repository: When making changes to the config file we strongly recommend that you upload these changes to the Git repository. For this, see: ml-git repository config push --help\n",
      "INFO - Admin: Add storage [s3h://mlgit]\n",
      "INFO - Admin: When making changes to the config file we strongly recommend that you upload these changes to the Git repository. For this, see: ml-git repository config push --help\n"
     ]
    },
    {
     "name": "stdout",
     "output_type": "stream",
     "text": [
      "/n\n"
     ]
    },
    {
     "name": "stderr",
     "output_type": "stream",
     "text": [
      "INFO - Admin: Add remote repository [/local_server.git/] for [datasets]\n",
      "INFO - Repository: When making changes to the config file we strongly recommend that you upload these changes to the Git repository. For this, see: ml-git repository config push --help\n",
      "INFO - Admin: Add storage [s3h://mlgit]\n",
      "INFO - Admin: When making changes to the config file we strongly recommend that you upload these changes to the Git repository. For this, see: ml-git repository config push --help\n"
     ]
    },
    {
     "name": "stdout",
     "output_type": "stream",
     "text": []
    }
   ],
   "source": [
    "remote_url = '/local_server.git/'\n",
    "bucket_name= 'mlgit'\n",
    "end_point = 'http://127.0.0.1:9000'\n",
    "\n",
    "# The type of entity we are working on\n",
    "entity_type = 'datasets'\n",
    "\n",
    "project_1.remote_add(entity_type, remote_url)\n",
    "project_1.storage_add(bucket_name, endpoint_url=end_point)\n",
    "\n",
    "print('/n')\n",
    "\n",
    "project_2.remote_add(entity_type, remote_url)\n",
    "project_2.storage_add(bucket_name, endpoint_url=end_point)"
   ]
  },
  {
   "cell_type": "markdown",
   "metadata": {},
   "source": [
    "After the project have been initialized and are ready for use. We can continue with the process to create a dataset.\n",
    "To create this specification file for a new entity you must run the following command:"
   ]
  },
  {
   "cell_type": "code",
   "execution_count": 8,
   "metadata": {},
   "outputs": [
    {
     "name": "stderr",
     "output_type": "stream",
     "text": [
      "INFO - MLGit: Dataset artifact created.\n",
      "INFO - MLGit: Dataset artifact created.\n"
     ]
    },
    {
     "name": "stdout",
     "output_type": "stream",
     "text": []
    }
   ],
   "source": [
    "# The entity name we are working on project 1\n",
    "entity_name_1 = 'dataset-ex-1'\n",
    "# The entity name we are working on project 2\n",
    "entity_name_2 = 'dataset-ex-2'\n",
    "\n",
    "project_1.create(entity_type, entity_name_1, categories=['img'], mutability='strict')\n",
    "project_2.create(entity_type, entity_name_2, categories=['img'], mutability='strict')"
   ]
  },
  {
   "cell_type": "markdown",
   "metadata": {},
   "source": [
    "In this example we demonstrate a simple use with multiple projects in ml-git api, you can use all commands available in the api with this concept of multiple projects, a complete flow of how to version an entity can be found in the [Basic Flow Notebook](./basic_flow.ipynb)."
   ]
  }
 ],
 "metadata": {
  "kernelspec": {
   "display_name": "Python 3 (ipykernel)",
   "language": "python",
   "name": "python3"
  },
  "language_info": {
   "codemirror_mode": {
    "name": "ipython",
    "version": 3
   },
   "file_extension": ".py",
   "mimetype": "text/x-python",
   "name": "python",
   "nbconvert_exporter": "python",
   "pygments_lexer": "ipython3",
   "version": "3.7.8"
  }
 },
 "nbformat": 4,
 "nbformat_minor": 4
}
