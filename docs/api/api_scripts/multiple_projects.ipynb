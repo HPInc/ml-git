{
 "cells": [
  {
   "cell_type": "markdown",
   "source": [
    "## Multiple Projecs"
   ],
   "metadata": {}
  },
  {
   "cell_type": "markdown",
   "source": [
    "This notebook describes how to use multiple projects in ml-git api."
   ],
   "metadata": {}
  },
  {
   "cell_type": "markdown",
   "source": [
    "To start using the ml-git api we need to import it into our script"
   ],
   "metadata": {}
  },
  {
   "cell_type": "code",
   "execution_count": 1,
   "source": [
    "from ml_git.api import MLGitAPI"
   ],
   "outputs": [
    {
     "output_type": "stream",
     "name": "stdout",
     "text": [
      "\r"
     ]
    }
   ],
   "metadata": {}
  },
  {
   "cell_type": "markdown",
   "source": [
    "Then we must creates tow new project instances, you can inform the root path of the instance as a parameter, by default the path of the instance will be the current path."
   ],
   "metadata": {}
  },
  {
   "cell_type": "code",
   "execution_count": 1,
   "source": [
    "project_1 = MLGitAPI(root_path='/project_1/')\r\n",
    "project_2 = MLGitAPI(root_path='/project_2/')"
   ],
   "outputs": [],
   "metadata": {}
  },
  {
   "cell_type": "markdown",
   "source": [
    "We will consider the scenario of a user who wants to configure their projects from scratch. The first step is to define that the directory we are working on will be an ml-git project, for this we execute the following command:"
   ],
   "metadata": {}
  },
  {
   "cell_type": "code",
   "execution_count": 2,
   "source": [
    "project_1.init('repository')\r\n",
    "project_2.init('repository')"
   ],
   "outputs": [
    {
     "output_type": "stream",
     "name": "stderr",
     "text": [
      "INFO - Admin: Initialized empty ml-git repository in /api_scripts/.ml-git\n"
     ]
    },
    {
     "output_type": "stream",
     "name": "stdout",
     "text": [
      "\r"
     ]
    }
   ],
   "metadata": {}
  },
  {
   "cell_type": "markdown",
   "source": [
    "In this notebook we will configure our ml-git project with a local git repository and a local minio as storage. For this, the following commands are necessary:"
   ],
   "metadata": {}
  },
  {
   "cell_type": "code",
   "execution_count": null,
   "source": [
    "remote_url = '/local_server.git/'\r\n",
    "bucket_name= 'mlgit'\r\n",
    "end_point = 'http://127.0.0.1:9000'\r\n",
    "\r\n",
    "# The type of entity we are working on\r\n",
    "entity_type = 'datasets'\r\n",
    "\r\n",
    "project_1.remote_add(entity_type, remote_url)\r\n",
    "project_1.storage_add(bucket_name, endpoint_url=end_point)\r\n",
    "\r\n",
    "project_2.remote_add(entity_type, remote_url)\r\n",
    "project_2.storage_add(bucket_name, endpoint_url=end_point)"
   ],
   "outputs": [],
   "metadata": {}
  },
  {
   "cell_type": "markdown",
   "source": [
    "After the project have been initialized and are ready for use. We can continue with the process to create a dataset.\r\n",
    "To create this specification file for a new entity you must run the following command:"
   ],
   "metadata": {}
  },
  {
   "cell_type": "code",
   "execution_count": null,
   "source": [
    "# The entity name we are working on\r\n",
    "entity_name = 'dataset-ex'\r\n",
    "\r\n",
    "project_1.create(entity_type, entity_name, categories=['img'], mutability='strict')\r\n",
    "project_2.create(entity_type, entity_name, categories=['img'], mutability='strict')"
   ],
   "outputs": [],
   "metadata": {}
  },
  {
   "cell_type": "markdown",
   "source": [
    "In this example we demonstrate a simple use with multiple projects in ml-git api, you can use all commands available in the api with this concept of multiple projects, a complete flow of how to version an entity can be found in the [Basic Flow Notebook](./basic_flow.ipynb)."
   ],
   "metadata": {}
  }
 ],
 "metadata": {
  "kernelspec": {
   "display_name": "Python 3",
   "language": "python",
   "name": "python3"
  },
  "language_info": {
   "codemirror_mode": {
    "name": "ipython",
    "version": 3
   },
   "file_extension": ".py",
   "mimetype": "text/x-python",
   "name": "python",
   "nbconvert_exporter": "python",
   "pygments_lexer": "ipython3",
   "version": "3.8.8"
  }
 },
 "nbformat": 4,
 "nbformat_minor": 4
}